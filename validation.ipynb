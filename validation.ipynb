{
 "cells": [
  {
   "cell_type": "code",
   "execution_count": 1,
   "metadata": {},
   "outputs": [],
   "source": [
    "import sklearn\n",
    "import pandas as pd\n",
    "from sklearn.preprocessing import StandardScaler\n",
    "import numpy as np\n",
    "from sklearn.linear_model import Lasso"
   ]
  },
  {
   "cell_type": "code",
   "execution_count": 2,
   "metadata": {},
   "outputs": [],
   "source": [
    "df = pd.read_csv('train.csv')\n",
    "df = df.drop(['id'],axis=1)\n",
    "df = pd.get_dummies(df, columns=['penalty'])\n",
    "X = df.drop(['time'],axis=1)\n",
    "y = df.loc[:,'time']\n"
   ]
  },
  {
   "cell_type": "code",
   "execution_count": 3,
   "metadata": {},
   "outputs": [],
   "source": [
    "from sklearn.model_selection import KFold\n",
    "from sklearn.metrics import mean_squared_error\n",
    "from sklearn.ensemble import GradientBoostingRegressor\n",
    "from sklearn.preprocessing import StandardScaler\n"
   ]
  },
  {
   "cell_type": "code",
   "execution_count": 4,
   "metadata": {},
   "outputs": [
    {
     "name": "stdout",
     "output_type": "stream",
     "text": [
      "3.303476163636026\n",
      "0.06971091730184685\n",
      "2.441950815242664\n",
      "0.09175120100820375\n",
      "3.6430731221882233\n",
      "0.0669859100168007\n",
      "5.160245000373136\n",
      "0.07697454248099596\n"
     ]
    }
   ],
   "source": [
    "kf = KFold(n_splits=4, shuffle=True)\n",
    "scaler = StandardScaler()\n",
    "\n",
    "X_ = X.loc[:, ['penalty_l2', 'penalty_none', 'penalty_elasticnet',  'max_iter','n_jobs', 'n_samples', 'n_features', 'n_classes', 'flip_y']]\n",
    "X_['job_inv'] = 1 / X_['n_jobs']\n",
    "X_['workload'] = X_['max_iter'] * X_['n_classes']  * X_['n_samples'] * X_['n_features'] * X_['flip_y'] * X_['job_inv']\n",
    "X_['class_job'] = X_['n_classes'] * X_['job_inv']\n",
    "X_['samples_job'] = X_['n_samples'] * X_['job_inv']\n",
    "X_['iter_job'] = X_['max_iter'] * X_['job_inv']\n",
    "X_['feature_job'] = X_['n_features'] * X_['job_inv']\n",
    "X_ = scaler.fit_transform(X_)\n",
    "\n",
    "for train_index, test_index in kf.split(df):\n",
    "    y_train, y_test = y.iloc[train_index,], y.iloc[test_index,]\n",
    "    X_train, X_test = X_[train_index], X_[test_index]\n",
    "    log_y_train = np.log(y_train)\n",
    "    est = GradientBoostingRegressor(n_estimators=1000, max_features=0.5, subsample=0.5, learning_rate=0.01, max_depth=3, random_state=0, loss='ls')\n",
    "    est.fit(X_train, log_y_train, sample_weight=y_train )\n",
    "    \n",
    "    print(mean_squared_error(y_test, np.exp(est.predict(X_test))))\n",
    "    print(mean_squared_error(y_train, np.exp(est.predict(X_train))))"
   ]
  },
  {
   "cell_type": "code",
   "execution_count": null,
   "metadata": {},
   "outputs": [],
   "source": []
  }
 ],
 "metadata": {
  "kernelspec": {
   "display_name": "Python 3",
   "language": "python",
   "name": "python3"
  },
  "language_info": {
   "codemirror_mode": {
    "name": "ipython",
    "version": 3
   },
   "file_extension": ".py",
   "mimetype": "text/x-python",
   "name": "python",
   "nbconvert_exporter": "python",
   "pygments_lexer": "ipython3",
   "version": "3.6.3"
  }
 },
 "nbformat": 4,
 "nbformat_minor": 2
}
